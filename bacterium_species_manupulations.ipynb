{
 "cells": [
  {
   "cell_type": "code",
   "execution_count": 1,
   "metadata": {},
   "outputs": [],
   "source": [
    "import pandas as pd\r\n",
    "import numpy as np"
   ]
  },
  {
   "cell_type": "markdown",
   "metadata": {},
   "source": [
    "## **Read TSV File**\r\n"
   ]
  },
  {
   "cell_type": "code",
   "execution_count": 2,
   "metadata": {},
   "outputs": [],
   "source": [
    "df = pd.read_csv('C:/Users/Sagar Singh/Desktop/chrons_taxanomic_profile (1).tsv', sep='\\t')"
   ]
  },
  {
   "cell_type": "code",
   "execution_count": 3,
   "metadata": {},
   "outputs": [
    {
     "data": {
      "text/html": "<div>\n<style scoped>\n    .dataframe tbody tr th:only-of-type {\n        vertical-align: middle;\n    }\n\n    .dataframe tbody tr th {\n        vertical-align: top;\n    }\n\n    .dataframe thead th {\n        text-align: right;\n    }\n</style>\n<table border=\"1\" class=\"dataframe\">\n  <thead>\n    <tr style=\"text-align: right;\">\n      <th></th>\n      <th>#SampleID</th>\n      <th>ERR209679_1_kneaddata_taxonomic_profile</th>\n      <th>ERR209680_1_kneaddata_taxonomic_profile</th>\n      <th>ERR209681_1_kneaddata_taxonomic_profile</th>\n      <th>ERR209684_1_kneaddata_taxonomic_profile</th>\n      <th>ERR209685_1_kneaddata_taxonomic_profile</th>\n      <th>ERR209690_1_kneaddata_taxonomic_profile</th>\n      <th>ERR209691_1_kneaddata_taxonomic_profile</th>\n      <th>ERR209692_1_kneaddata_taxonomic_profile</th>\n      <th>ERR209693_1_kneaddata_taxonomic_profile</th>\n      <th>...</th>\n      <th>ERR209729_1_kneaddata_taxonomic_profile</th>\n      <th>ERR209730_1_kneaddata_taxonomic_profile</th>\n      <th>ERR209731_1_kneaddata_taxonomic_profile</th>\n      <th>ERR209732_1_kneaddata_taxonomic_profile</th>\n      <th>ERR209739_1_kneaddata_taxonomic_profile</th>\n      <th>ERR209740_1_kneaddata_taxonomic_profile</th>\n      <th>ERR209743_1_kneaddata_taxonomic_profile</th>\n      <th>ERR209744_1_kneaddata_taxonomic_profile</th>\n      <th>ERR209745_1_kneaddata_taxonomic_profile</th>\n      <th>ERR209746_1_kneaddata_taxonomic_profile</th>\n    </tr>\n  </thead>\n  <tbody>\n    <tr>\n      <th>0</th>\n      <td>k__Archaea</td>\n      <td>0.07903</td>\n      <td>0.0</td>\n      <td>0.0</td>\n      <td>0.0</td>\n      <td>0.0</td>\n      <td>0.0</td>\n      <td>0.0</td>\n      <td>0.0</td>\n      <td>0.0</td>\n      <td>...</td>\n      <td>0.0</td>\n      <td>0.0</td>\n      <td>0.0</td>\n      <td>0.0</td>\n      <td>0.0</td>\n      <td>0.0</td>\n      <td>0.0</td>\n      <td>0.0</td>\n      <td>0.0</td>\n      <td>0.0</td>\n    </tr>\n    <tr>\n      <th>1</th>\n      <td>k__Archaea|p__Euryarchaeota</td>\n      <td>0.07903</td>\n      <td>0.0</td>\n      <td>0.0</td>\n      <td>0.0</td>\n      <td>0.0</td>\n      <td>0.0</td>\n      <td>0.0</td>\n      <td>0.0</td>\n      <td>0.0</td>\n      <td>...</td>\n      <td>0.0</td>\n      <td>0.0</td>\n      <td>0.0</td>\n      <td>0.0</td>\n      <td>0.0</td>\n      <td>0.0</td>\n      <td>0.0</td>\n      <td>0.0</td>\n      <td>0.0</td>\n      <td>0.0</td>\n    </tr>\n    <tr>\n      <th>2</th>\n      <td>k__Archaea|p__Euryarchaeota|c__Methanobacteria</td>\n      <td>0.07903</td>\n      <td>0.0</td>\n      <td>0.0</td>\n      <td>0.0</td>\n      <td>0.0</td>\n      <td>0.0</td>\n      <td>0.0</td>\n      <td>0.0</td>\n      <td>0.0</td>\n      <td>...</td>\n      <td>0.0</td>\n      <td>0.0</td>\n      <td>0.0</td>\n      <td>0.0</td>\n      <td>0.0</td>\n      <td>0.0</td>\n      <td>0.0</td>\n      <td>0.0</td>\n      <td>0.0</td>\n      <td>0.0</td>\n    </tr>\n    <tr>\n      <th>3</th>\n      <td>k__Archaea|p__Euryarchaeota|c__Methanobacteria...</td>\n      <td>0.07903</td>\n      <td>0.0</td>\n      <td>0.0</td>\n      <td>0.0</td>\n      <td>0.0</td>\n      <td>0.0</td>\n      <td>0.0</td>\n      <td>0.0</td>\n      <td>0.0</td>\n      <td>...</td>\n      <td>0.0</td>\n      <td>0.0</td>\n      <td>0.0</td>\n      <td>0.0</td>\n      <td>0.0</td>\n      <td>0.0</td>\n      <td>0.0</td>\n      <td>0.0</td>\n      <td>0.0</td>\n      <td>0.0</td>\n    </tr>\n    <tr>\n      <th>4</th>\n      <td>k__Archaea|p__Euryarchaeota|c__Methanobacteria...</td>\n      <td>0.07903</td>\n      <td>0.0</td>\n      <td>0.0</td>\n      <td>0.0</td>\n      <td>0.0</td>\n      <td>0.0</td>\n      <td>0.0</td>\n      <td>0.0</td>\n      <td>0.0</td>\n      <td>...</td>\n      <td>0.0</td>\n      <td>0.0</td>\n      <td>0.0</td>\n      <td>0.0</td>\n      <td>0.0</td>\n      <td>0.0</td>\n      <td>0.0</td>\n      <td>0.0</td>\n      <td>0.0</td>\n      <td>0.0</td>\n    </tr>\n  </tbody>\n</table>\n<p>5 rows × 36 columns</p>\n</div>",
      "text/plain": "                                           #SampleID  \\\n0                                         k__Archaea   \n1                        k__Archaea|p__Euryarchaeota   \n2     k__Archaea|p__Euryarchaeota|c__Methanobacteria   \n3  k__Archaea|p__Euryarchaeota|c__Methanobacteria...   \n4  k__Archaea|p__Euryarchaeota|c__Methanobacteria...   \n\n   ERR209679_1_kneaddata_taxonomic_profile  \\\n0                                  0.07903   \n1                                  0.07903   \n2                                  0.07903   \n3                                  0.07903   \n4                                  0.07903   \n\n   ERR209680_1_kneaddata_taxonomic_profile  \\\n0                                      0.0   \n1                                      0.0   \n2                                      0.0   \n3                                      0.0   \n4                                      0.0   \n\n   ERR209681_1_kneaddata_taxonomic_profile  \\\n0                                      0.0   \n1                                      0.0   \n2                                      0.0   \n3                                      0.0   \n4                                      0.0   \n\n   ERR209684_1_kneaddata_taxonomic_profile  \\\n0                                      0.0   \n1                                      0.0   \n2                                      0.0   \n3                                      0.0   \n4                                      0.0   \n\n   ERR209685_1_kneaddata_taxonomic_profile  \\\n0                                      0.0   \n1                                      0.0   \n2                                      0.0   \n3                                      0.0   \n4                                      0.0   \n\n   ERR209690_1_kneaddata_taxonomic_profile  \\\n0                                      0.0   \n1                                      0.0   \n2                                      0.0   \n3                                      0.0   \n4                                      0.0   \n\n   ERR209691_1_kneaddata_taxonomic_profile  \\\n0                                      0.0   \n1                                      0.0   \n2                                      0.0   \n3                                      0.0   \n4                                      0.0   \n\n   ERR209692_1_kneaddata_taxonomic_profile  \\\n0                                      0.0   \n1                                      0.0   \n2                                      0.0   \n3                                      0.0   \n4                                      0.0   \n\n   ERR209693_1_kneaddata_taxonomic_profile  ...  \\\n0                                      0.0  ...   \n1                                      0.0  ...   \n2                                      0.0  ...   \n3                                      0.0  ...   \n4                                      0.0  ...   \n\n   ERR209729_1_kneaddata_taxonomic_profile  \\\n0                                      0.0   \n1                                      0.0   \n2                                      0.0   \n3                                      0.0   \n4                                      0.0   \n\n   ERR209730_1_kneaddata_taxonomic_profile  \\\n0                                      0.0   \n1                                      0.0   \n2                                      0.0   \n3                                      0.0   \n4                                      0.0   \n\n   ERR209731_1_kneaddata_taxonomic_profile  \\\n0                                      0.0   \n1                                      0.0   \n2                                      0.0   \n3                                      0.0   \n4                                      0.0   \n\n   ERR209732_1_kneaddata_taxonomic_profile  \\\n0                                      0.0   \n1                                      0.0   \n2                                      0.0   \n3                                      0.0   \n4                                      0.0   \n\n   ERR209739_1_kneaddata_taxonomic_profile  \\\n0                                      0.0   \n1                                      0.0   \n2                                      0.0   \n3                                      0.0   \n4                                      0.0   \n\n   ERR209740_1_kneaddata_taxonomic_profile  \\\n0                                      0.0   \n1                                      0.0   \n2                                      0.0   \n3                                      0.0   \n4                                      0.0   \n\n   ERR209743_1_kneaddata_taxonomic_profile  \\\n0                                      0.0   \n1                                      0.0   \n2                                      0.0   \n3                                      0.0   \n4                                      0.0   \n\n   ERR209744_1_kneaddata_taxonomic_profile  \\\n0                                      0.0   \n1                                      0.0   \n2                                      0.0   \n3                                      0.0   \n4                                      0.0   \n\n   ERR209745_1_kneaddata_taxonomic_profile  \\\n0                                      0.0   \n1                                      0.0   \n2                                      0.0   \n3                                      0.0   \n4                                      0.0   \n\n   ERR209746_1_kneaddata_taxonomic_profile  \n0                                      0.0  \n1                                      0.0  \n2                                      0.0  \n3                                      0.0  \n4                                      0.0  \n\n[5 rows x 36 columns]"
     },
     "execution_count": 3,
     "metadata": {},
     "output_type": "execute_result"
    }
   ],
   "source": [
    "df.head()"
   ]
  },
  {
   "cell_type": "markdown",
   "metadata": {},
   "source": [
    "> ## **Step_1-> Row filtering based on taxonomic_profile**"
   ]
  },
  {
   "cell_type": "code",
   "execution_count": 4,
   "metadata": {},
   "outputs": [],
   "source": [
    "contains_t = df[df['#SampleID'].str.contains(\"t__\")]"
   ]
  },
  {
   "cell_type": "code",
   "execution_count": 5,
   "metadata": {},
   "outputs": [
    {
     "data": {
      "text/html": "<div>\n<style scoped>\n    .dataframe tbody tr th:only-of-type {\n        vertical-align: middle;\n    }\n\n    .dataframe tbody tr th {\n        vertical-align: top;\n    }\n\n    .dataframe thead th {\n        text-align: right;\n    }\n</style>\n<table border=\"1\" class=\"dataframe\">\n  <thead>\n    <tr style=\"text-align: right;\">\n      <th></th>\n      <th>#SampleID</th>\n      <th>ERR209679_1_kneaddata_taxonomic_profile</th>\n      <th>ERR209680_1_kneaddata_taxonomic_profile</th>\n      <th>ERR209681_1_kneaddata_taxonomic_profile</th>\n      <th>ERR209684_1_kneaddata_taxonomic_profile</th>\n      <th>ERR209685_1_kneaddata_taxonomic_profile</th>\n      <th>ERR209690_1_kneaddata_taxonomic_profile</th>\n      <th>ERR209691_1_kneaddata_taxonomic_profile</th>\n      <th>ERR209692_1_kneaddata_taxonomic_profile</th>\n      <th>ERR209693_1_kneaddata_taxonomic_profile</th>\n      <th>...</th>\n      <th>ERR209729_1_kneaddata_taxonomic_profile</th>\n      <th>ERR209730_1_kneaddata_taxonomic_profile</th>\n      <th>ERR209731_1_kneaddata_taxonomic_profile</th>\n      <th>ERR209732_1_kneaddata_taxonomic_profile</th>\n      <th>ERR209739_1_kneaddata_taxonomic_profile</th>\n      <th>ERR209740_1_kneaddata_taxonomic_profile</th>\n      <th>ERR209743_1_kneaddata_taxonomic_profile</th>\n      <th>ERR209744_1_kneaddata_taxonomic_profile</th>\n      <th>ERR209745_1_kneaddata_taxonomic_profile</th>\n      <th>ERR209746_1_kneaddata_taxonomic_profile</th>\n    </tr>\n  </thead>\n  <tbody>\n    <tr>\n      <th>7</th>\n      <td>k__Archaea|p__Euryarchaeota|c__Methanobacteria...</td>\n      <td>0.02968</td>\n      <td>0.0</td>\n      <td>0.0</td>\n      <td>0.0</td>\n      <td>0.0</td>\n      <td>0.0</td>\n      <td>0.0</td>\n      <td>0.0</td>\n      <td>0.00000</td>\n      <td>...</td>\n      <td>0.0</td>\n      <td>0.00000</td>\n      <td>0.0</td>\n      <td>0.0</td>\n      <td>0.0</td>\n      <td>0.0</td>\n      <td>0.0</td>\n      <td>0.0</td>\n      <td>0.0</td>\n      <td>0.0</td>\n    </tr>\n    <tr>\n      <th>16</th>\n      <td>k__Bacteria|p__Actinobacteria|c__Actinobacteri...</td>\n      <td>0.26560</td>\n      <td>0.0</td>\n      <td>0.0</td>\n      <td>0.0</td>\n      <td>0.0</td>\n      <td>0.0</td>\n      <td>0.0</td>\n      <td>0.0</td>\n      <td>0.00023</td>\n      <td>...</td>\n      <td>0.0</td>\n      <td>0.00291</td>\n      <td>0.0</td>\n      <td>0.0</td>\n      <td>0.0</td>\n      <td>0.0</td>\n      <td>0.0</td>\n      <td>0.0</td>\n      <td>0.0</td>\n      <td>0.0</td>\n    </tr>\n    <tr>\n      <th>20</th>\n      <td>k__Bacteria|p__Actinobacteria|c__Actinobacteri...</td>\n      <td>0.40963</td>\n      <td>0.0</td>\n      <td>0.0</td>\n      <td>0.0</td>\n      <td>0.0</td>\n      <td>0.0</td>\n      <td>0.0</td>\n      <td>0.0</td>\n      <td>0.00000</td>\n      <td>...</td>\n      <td>0.0</td>\n      <td>0.00000</td>\n      <td>0.0</td>\n      <td>0.0</td>\n      <td>0.0</td>\n      <td>0.0</td>\n      <td>0.0</td>\n      <td>0.0</td>\n      <td>0.0</td>\n      <td>0.0</td>\n    </tr>\n    <tr>\n      <th>22</th>\n      <td>k__Bacteria|p__Actinobacteria|c__Actinobacteri...</td>\n      <td>0.16636</td>\n      <td>0.0</td>\n      <td>0.0</td>\n      <td>0.0</td>\n      <td>0.0</td>\n      <td>0.0</td>\n      <td>0.0</td>\n      <td>0.0</td>\n      <td>0.00000</td>\n      <td>...</td>\n      <td>0.0</td>\n      <td>0.00000</td>\n      <td>0.0</td>\n      <td>0.0</td>\n      <td>0.0</td>\n      <td>0.0</td>\n      <td>0.0</td>\n      <td>0.0</td>\n      <td>0.0</td>\n      <td>0.0</td>\n    </tr>\n    <tr>\n      <th>30</th>\n      <td>k__Bacteria|p__Actinobacteria|c__Actinobacteri...</td>\n      <td>0.28493</td>\n      <td>0.0</td>\n      <td>0.0</td>\n      <td>0.0</td>\n      <td>0.0</td>\n      <td>0.0</td>\n      <td>0.0</td>\n      <td>0.0</td>\n      <td>0.00000</td>\n      <td>...</td>\n      <td>0.0</td>\n      <td>0.00000</td>\n      <td>0.0</td>\n      <td>0.0</td>\n      <td>0.0</td>\n      <td>0.0</td>\n      <td>0.0</td>\n      <td>0.0</td>\n      <td>0.0</td>\n      <td>0.0</td>\n    </tr>\n  </tbody>\n</table>\n<p>5 rows × 36 columns</p>\n</div>",
      "text/plain": "                                            #SampleID  \\\n7   k__Archaea|p__Euryarchaeota|c__Methanobacteria...   \n16  k__Bacteria|p__Actinobacteria|c__Actinobacteri...   \n20  k__Bacteria|p__Actinobacteria|c__Actinobacteri...   \n22  k__Bacteria|p__Actinobacteria|c__Actinobacteri...   \n30  k__Bacteria|p__Actinobacteria|c__Actinobacteri...   \n\n    ERR209679_1_kneaddata_taxonomic_profile  \\\n7                                   0.02968   \n16                                  0.26560   \n20                                  0.40963   \n22                                  0.16636   \n30                                  0.28493   \n\n    ERR209680_1_kneaddata_taxonomic_profile  \\\n7                                       0.0   \n16                                      0.0   \n20                                      0.0   \n22                                      0.0   \n30                                      0.0   \n\n    ERR209681_1_kneaddata_taxonomic_profile  \\\n7                                       0.0   \n16                                      0.0   \n20                                      0.0   \n22                                      0.0   \n30                                      0.0   \n\n    ERR209684_1_kneaddata_taxonomic_profile  \\\n7                                       0.0   \n16                                      0.0   \n20                                      0.0   \n22                                      0.0   \n30                                      0.0   \n\n    ERR209685_1_kneaddata_taxonomic_profile  \\\n7                                       0.0   \n16                                      0.0   \n20                                      0.0   \n22                                      0.0   \n30                                      0.0   \n\n    ERR209690_1_kneaddata_taxonomic_profile  \\\n7                                       0.0   \n16                                      0.0   \n20                                      0.0   \n22                                      0.0   \n30                                      0.0   \n\n    ERR209691_1_kneaddata_taxonomic_profile  \\\n7                                       0.0   \n16                                      0.0   \n20                                      0.0   \n22                                      0.0   \n30                                      0.0   \n\n    ERR209692_1_kneaddata_taxonomic_profile  \\\n7                                       0.0   \n16                                      0.0   \n20                                      0.0   \n22                                      0.0   \n30                                      0.0   \n\n    ERR209693_1_kneaddata_taxonomic_profile  ...  \\\n7                                   0.00000  ...   \n16                                  0.00023  ...   \n20                                  0.00000  ...   \n22                                  0.00000  ...   \n30                                  0.00000  ...   \n\n    ERR209729_1_kneaddata_taxonomic_profile  \\\n7                                       0.0   \n16                                      0.0   \n20                                      0.0   \n22                                      0.0   \n30                                      0.0   \n\n    ERR209730_1_kneaddata_taxonomic_profile  \\\n7                                   0.00000   \n16                                  0.00291   \n20                                  0.00000   \n22                                  0.00000   \n30                                  0.00000   \n\n    ERR209731_1_kneaddata_taxonomic_profile  \\\n7                                       0.0   \n16                                      0.0   \n20                                      0.0   \n22                                      0.0   \n30                                      0.0   \n\n    ERR209732_1_kneaddata_taxonomic_profile  \\\n7                                       0.0   \n16                                      0.0   \n20                                      0.0   \n22                                      0.0   \n30                                      0.0   \n\n    ERR209739_1_kneaddata_taxonomic_profile  \\\n7                                       0.0   \n16                                      0.0   \n20                                      0.0   \n22                                      0.0   \n30                                      0.0   \n\n    ERR209740_1_kneaddata_taxonomic_profile  \\\n7                                       0.0   \n16                                      0.0   \n20                                      0.0   \n22                                      0.0   \n30                                      0.0   \n\n    ERR209743_1_kneaddata_taxonomic_profile  \\\n7                                       0.0   \n16                                      0.0   \n20                                      0.0   \n22                                      0.0   \n30                                      0.0   \n\n    ERR209744_1_kneaddata_taxonomic_profile  \\\n7                                       0.0   \n16                                      0.0   \n20                                      0.0   \n22                                      0.0   \n30                                      0.0   \n\n    ERR209745_1_kneaddata_taxonomic_profile  \\\n7                                       0.0   \n16                                      0.0   \n20                                      0.0   \n22                                      0.0   \n30                                      0.0   \n\n    ERR209746_1_kneaddata_taxonomic_profile  \n7                                       0.0  \n16                                      0.0  \n20                                      0.0  \n22                                      0.0  \n30                                      0.0  \n\n[5 rows x 36 columns]"
     },
     "execution_count": 5,
     "metadata": {},
     "output_type": "execute_result"
    }
   ],
   "source": [
    "contains_t.head()"
   ]
  },
  {
   "cell_type": "markdown",
   "metadata": {},
   "source": [
    "> ## **Step_2-> Replacing first column with species names**"
   ]
  },
  {
   "cell_type": "code",
   "execution_count": 6,
   "metadata": {},
   "outputs": [],
   "source": [
    "# name_extraction\r\n",
    "import re \r\n",
    "def name_finder(name_col):\r\n",
    "    r = name_col.split('|')\r\n",
    "    for v in r:\r\n",
    "        if v.startswith('s'):\r\n",
    "            return v[3:]\r\n",
    "    return None\r\n",
    "\r\n"
   ]
  },
  {
   "cell_type": "markdown",
   "metadata": {},
   "source": [
    ">> ***making an array of names***"
   ]
  },
  {
   "cell_type": "code",
   "execution_count": 7,
   "metadata": {},
   "outputs": [],
   "source": [
    "name_list = [name_finder(name) for name in contains_t['#SampleID']]\r\n"
   ]
  },
  {
   "cell_type": "markdown",
   "metadata": {},
   "source": [
    ">> ***adding the arrey as a column \"Name\" in dataframe***"
   ]
  },
  {
   "cell_type": "code",
   "execution_count": 8,
   "metadata": {},
   "outputs": [
    {
     "name": "stderr",
     "output_type": "stream",
     "text": [
      "<ipython-input-8-b999d19039bb>:1: SettingWithCopyWarning: \n",
      "A value is trying to be set on a copy of a slice from a DataFrame.\n",
      "Try using .loc[row_indexer,col_indexer] = value instead\n",
      "\n",
      "See the caveats in the documentation: https://pandas.pydata.org/pandas-docs/stable/user_guide/indexing.html#returning-a-view-versus-a-copy\n",
      "  contains_t['Name'] = np.array(name_list)\n"
     ]
    }
   ],
   "source": [
    "contains_t['Name'] = np.array(name_list)"
   ]
  },
  {
   "cell_type": "markdown",
   "metadata": {},
   "source": [
    ">> ***replacing the first row with the name column***"
   ]
  },
  {
   "cell_type": "code",
   "execution_count": 9,
   "metadata": {},
   "outputs": [
    {
     "name": "stderr",
     "output_type": "stream",
     "text": [
      "D:\\__studymaterial__\\__computerscience__\\Anaconda_setup\\lib\\site-packages\\pandas\\core\\frame.py:4308: SettingWithCopyWarning: \n",
      "A value is trying to be set on a copy of a slice from a DataFrame\n",
      "\n",
      "See the caveats in the documentation: https://pandas.pydata.org/pandas-docs/stable/user_guide/indexing.html#returning-a-view-versus-a-copy\n",
      "  return super().drop(\n"
     ]
    }
   ],
   "source": [
    "contains_t.drop('#SampleID', inplace=True, axis=1)"
   ]
  },
  {
   "cell_type": "code",
   "execution_count": 10,
   "metadata": {},
   "outputs": [],
   "source": [
    "contains_t.set_index('Name',inplace = True)\r\n",
    "    "
   ]
  },
  {
   "cell_type": "code",
   "execution_count": 11,
   "metadata": {},
   "outputs": [
    {
     "data": {
      "text/html": "<div>\n<style scoped>\n    .dataframe tbody tr th:only-of-type {\n        vertical-align: middle;\n    }\n\n    .dataframe tbody tr th {\n        vertical-align: top;\n    }\n\n    .dataframe thead th {\n        text-align: right;\n    }\n</style>\n<table border=\"1\" class=\"dataframe\">\n  <thead>\n    <tr style=\"text-align: right;\">\n      <th></th>\n      <th>ERR209679_1_kneaddata_taxonomic_profile</th>\n      <th>ERR209680_1_kneaddata_taxonomic_profile</th>\n      <th>ERR209681_1_kneaddata_taxonomic_profile</th>\n      <th>ERR209684_1_kneaddata_taxonomic_profile</th>\n      <th>ERR209685_1_kneaddata_taxonomic_profile</th>\n      <th>ERR209690_1_kneaddata_taxonomic_profile</th>\n      <th>ERR209691_1_kneaddata_taxonomic_profile</th>\n      <th>ERR209692_1_kneaddata_taxonomic_profile</th>\n      <th>ERR209693_1_kneaddata_taxonomic_profile</th>\n      <th>ERR209695_1_kneaddata_taxonomic_profile</th>\n      <th>...</th>\n      <th>ERR209729_1_kneaddata_taxonomic_profile</th>\n      <th>ERR209730_1_kneaddata_taxonomic_profile</th>\n      <th>ERR209731_1_kneaddata_taxonomic_profile</th>\n      <th>ERR209732_1_kneaddata_taxonomic_profile</th>\n      <th>ERR209739_1_kneaddata_taxonomic_profile</th>\n      <th>ERR209740_1_kneaddata_taxonomic_profile</th>\n      <th>ERR209743_1_kneaddata_taxonomic_profile</th>\n      <th>ERR209744_1_kneaddata_taxonomic_profile</th>\n      <th>ERR209745_1_kneaddata_taxonomic_profile</th>\n      <th>ERR209746_1_kneaddata_taxonomic_profile</th>\n    </tr>\n    <tr>\n      <th>Name</th>\n      <th></th>\n      <th></th>\n      <th></th>\n      <th></th>\n      <th></th>\n      <th></th>\n      <th></th>\n      <th></th>\n      <th></th>\n      <th></th>\n      <th></th>\n      <th></th>\n      <th></th>\n      <th></th>\n      <th></th>\n      <th></th>\n      <th></th>\n      <th></th>\n      <th></th>\n      <th></th>\n      <th></th>\n    </tr>\n  </thead>\n  <tbody>\n    <tr>\n      <th>Methanobrevibacter_smithii</th>\n      <td>0.02968</td>\n      <td>0.0</td>\n      <td>0.0</td>\n      <td>0.0</td>\n      <td>0.0</td>\n      <td>0.0</td>\n      <td>0.0</td>\n      <td>0.0</td>\n      <td>0.00000</td>\n      <td>0.0</td>\n      <td>...</td>\n      <td>0.0</td>\n      <td>0.00000</td>\n      <td>0.0</td>\n      <td>0.0</td>\n      <td>0.0</td>\n      <td>0.0</td>\n      <td>0.0</td>\n      <td>0.0</td>\n      <td>0.0</td>\n      <td>0.0</td>\n    </tr>\n    <tr>\n      <th>Actinomyces_graevenitzii</th>\n      <td>0.26560</td>\n      <td>0.0</td>\n      <td>0.0</td>\n      <td>0.0</td>\n      <td>0.0</td>\n      <td>0.0</td>\n      <td>0.0</td>\n      <td>0.0</td>\n      <td>0.00023</td>\n      <td>0.0</td>\n      <td>...</td>\n      <td>0.0</td>\n      <td>0.00291</td>\n      <td>0.0</td>\n      <td>0.0</td>\n      <td>0.0</td>\n      <td>0.0</td>\n      <td>0.0</td>\n      <td>0.0</td>\n      <td>0.0</td>\n      <td>0.0</td>\n    </tr>\n    <tr>\n      <th>Rothia_dentocariosa</th>\n      <td>0.40963</td>\n      <td>0.0</td>\n      <td>0.0</td>\n      <td>0.0</td>\n      <td>0.0</td>\n      <td>0.0</td>\n      <td>0.0</td>\n      <td>0.0</td>\n      <td>0.00000</td>\n      <td>0.0</td>\n      <td>...</td>\n      <td>0.0</td>\n      <td>0.00000</td>\n      <td>0.0</td>\n      <td>0.0</td>\n      <td>0.0</td>\n      <td>0.0</td>\n      <td>0.0</td>\n      <td>0.0</td>\n      <td>0.0</td>\n      <td>0.0</td>\n    </tr>\n    <tr>\n      <th>Rothia_mucilaginosa</th>\n      <td>0.16636</td>\n      <td>0.0</td>\n      <td>0.0</td>\n      <td>0.0</td>\n      <td>0.0</td>\n      <td>0.0</td>\n      <td>0.0</td>\n      <td>0.0</td>\n      <td>0.00000</td>\n      <td>0.0</td>\n      <td>...</td>\n      <td>0.0</td>\n      <td>0.00000</td>\n      <td>0.0</td>\n      <td>0.0</td>\n      <td>0.0</td>\n      <td>0.0</td>\n      <td>0.0</td>\n      <td>0.0</td>\n      <td>0.0</td>\n      <td>0.0</td>\n    </tr>\n    <tr>\n      <th>Alloscardovia_omnicolens</th>\n      <td>0.28493</td>\n      <td>0.0</td>\n      <td>0.0</td>\n      <td>0.0</td>\n      <td>0.0</td>\n      <td>0.0</td>\n      <td>0.0</td>\n      <td>0.0</td>\n      <td>0.00000</td>\n      <td>0.0</td>\n      <td>...</td>\n      <td>0.0</td>\n      <td>0.00000</td>\n      <td>0.0</td>\n      <td>0.0</td>\n      <td>0.0</td>\n      <td>0.0</td>\n      <td>0.0</td>\n      <td>0.0</td>\n      <td>0.0</td>\n      <td>0.0</td>\n    </tr>\n  </tbody>\n</table>\n<p>5 rows × 35 columns</p>\n</div>",
      "text/plain": "                            ERR209679_1_kneaddata_taxonomic_profile  \\\nName                                                                  \nMethanobrevibacter_smithii                                  0.02968   \nActinomyces_graevenitzii                                    0.26560   \nRothia_dentocariosa                                         0.40963   \nRothia_mucilaginosa                                         0.16636   \nAlloscardovia_omnicolens                                    0.28493   \n\n                            ERR209680_1_kneaddata_taxonomic_profile  \\\nName                                                                  \nMethanobrevibacter_smithii                                      0.0   \nActinomyces_graevenitzii                                        0.0   \nRothia_dentocariosa                                             0.0   \nRothia_mucilaginosa                                             0.0   \nAlloscardovia_omnicolens                                        0.0   \n\n                            ERR209681_1_kneaddata_taxonomic_profile  \\\nName                                                                  \nMethanobrevibacter_smithii                                      0.0   \nActinomyces_graevenitzii                                        0.0   \nRothia_dentocariosa                                             0.0   \nRothia_mucilaginosa                                             0.0   \nAlloscardovia_omnicolens                                        0.0   \n\n                            ERR209684_1_kneaddata_taxonomic_profile  \\\nName                                                                  \nMethanobrevibacter_smithii                                      0.0   \nActinomyces_graevenitzii                                        0.0   \nRothia_dentocariosa                                             0.0   \nRothia_mucilaginosa                                             0.0   \nAlloscardovia_omnicolens                                        0.0   \n\n                            ERR209685_1_kneaddata_taxonomic_profile  \\\nName                                                                  \nMethanobrevibacter_smithii                                      0.0   \nActinomyces_graevenitzii                                        0.0   \nRothia_dentocariosa                                             0.0   \nRothia_mucilaginosa                                             0.0   \nAlloscardovia_omnicolens                                        0.0   \n\n                            ERR209690_1_kneaddata_taxonomic_profile  \\\nName                                                                  \nMethanobrevibacter_smithii                                      0.0   \nActinomyces_graevenitzii                                        0.0   \nRothia_dentocariosa                                             0.0   \nRothia_mucilaginosa                                             0.0   \nAlloscardovia_omnicolens                                        0.0   \n\n                            ERR209691_1_kneaddata_taxonomic_profile  \\\nName                                                                  \nMethanobrevibacter_smithii                                      0.0   \nActinomyces_graevenitzii                                        0.0   \nRothia_dentocariosa                                             0.0   \nRothia_mucilaginosa                                             0.0   \nAlloscardovia_omnicolens                                        0.0   \n\n                            ERR209692_1_kneaddata_taxonomic_profile  \\\nName                                                                  \nMethanobrevibacter_smithii                                      0.0   \nActinomyces_graevenitzii                                        0.0   \nRothia_dentocariosa                                             0.0   \nRothia_mucilaginosa                                             0.0   \nAlloscardovia_omnicolens                                        0.0   \n\n                            ERR209693_1_kneaddata_taxonomic_profile  \\\nName                                                                  \nMethanobrevibacter_smithii                                  0.00000   \nActinomyces_graevenitzii                                    0.00023   \nRothia_dentocariosa                                         0.00000   \nRothia_mucilaginosa                                         0.00000   \nAlloscardovia_omnicolens                                    0.00000   \n\n                            ERR209695_1_kneaddata_taxonomic_profile  ...  \\\nName                                                                 ...   \nMethanobrevibacter_smithii                                      0.0  ...   \nActinomyces_graevenitzii                                        0.0  ...   \nRothia_dentocariosa                                             0.0  ...   \nRothia_mucilaginosa                                             0.0  ...   \nAlloscardovia_omnicolens                                        0.0  ...   \n\n                            ERR209729_1_kneaddata_taxonomic_profile  \\\nName                                                                  \nMethanobrevibacter_smithii                                      0.0   \nActinomyces_graevenitzii                                        0.0   \nRothia_dentocariosa                                             0.0   \nRothia_mucilaginosa                                             0.0   \nAlloscardovia_omnicolens                                        0.0   \n\n                            ERR209730_1_kneaddata_taxonomic_profile  \\\nName                                                                  \nMethanobrevibacter_smithii                                  0.00000   \nActinomyces_graevenitzii                                    0.00291   \nRothia_dentocariosa                                         0.00000   \nRothia_mucilaginosa                                         0.00000   \nAlloscardovia_omnicolens                                    0.00000   \n\n                            ERR209731_1_kneaddata_taxonomic_profile  \\\nName                                                                  \nMethanobrevibacter_smithii                                      0.0   \nActinomyces_graevenitzii                                        0.0   \nRothia_dentocariosa                                             0.0   \nRothia_mucilaginosa                                             0.0   \nAlloscardovia_omnicolens                                        0.0   \n\n                            ERR209732_1_kneaddata_taxonomic_profile  \\\nName                                                                  \nMethanobrevibacter_smithii                                      0.0   \nActinomyces_graevenitzii                                        0.0   \nRothia_dentocariosa                                             0.0   \nRothia_mucilaginosa                                             0.0   \nAlloscardovia_omnicolens                                        0.0   \n\n                            ERR209739_1_kneaddata_taxonomic_profile  \\\nName                                                                  \nMethanobrevibacter_smithii                                      0.0   \nActinomyces_graevenitzii                                        0.0   \nRothia_dentocariosa                                             0.0   \nRothia_mucilaginosa                                             0.0   \nAlloscardovia_omnicolens                                        0.0   \n\n                            ERR209740_1_kneaddata_taxonomic_profile  \\\nName                                                                  \nMethanobrevibacter_smithii                                      0.0   \nActinomyces_graevenitzii                                        0.0   \nRothia_dentocariosa                                             0.0   \nRothia_mucilaginosa                                             0.0   \nAlloscardovia_omnicolens                                        0.0   \n\n                            ERR209743_1_kneaddata_taxonomic_profile  \\\nName                                                                  \nMethanobrevibacter_smithii                                      0.0   \nActinomyces_graevenitzii                                        0.0   \nRothia_dentocariosa                                             0.0   \nRothia_mucilaginosa                                             0.0   \nAlloscardovia_omnicolens                                        0.0   \n\n                            ERR209744_1_kneaddata_taxonomic_profile  \\\nName                                                                  \nMethanobrevibacter_smithii                                      0.0   \nActinomyces_graevenitzii                                        0.0   \nRothia_dentocariosa                                             0.0   \nRothia_mucilaginosa                                             0.0   \nAlloscardovia_omnicolens                                        0.0   \n\n                            ERR209745_1_kneaddata_taxonomic_profile  \\\nName                                                                  \nMethanobrevibacter_smithii                                      0.0   \nActinomyces_graevenitzii                                        0.0   \nRothia_dentocariosa                                             0.0   \nRothia_mucilaginosa                                             0.0   \nAlloscardovia_omnicolens                                        0.0   \n\n                            ERR209746_1_kneaddata_taxonomic_profile  \nName                                                                 \nMethanobrevibacter_smithii                                      0.0  \nActinomyces_graevenitzii                                        0.0  \nRothia_dentocariosa                                             0.0  \nRothia_mucilaginosa                                             0.0  \nAlloscardovia_omnicolens                                        0.0  \n\n[5 rows x 35 columns]"
     },
     "execution_count": 11,
     "metadata": {},
     "output_type": "execute_result"
    }
   ],
   "source": [
    "contains_t.head()"
   ]
  },
  {
   "cell_type": "code",
   "execution_count": 12,
   "metadata": {},
   "outputs": [],
   "source": [
    "contains_t.reset_index(drop=False, inplace=True)"
   ]
  },
  {
   "cell_type": "code",
   "execution_count": 13,
   "metadata": {},
   "outputs": [
    {
     "data": {
      "text/html": "<div>\n<style scoped>\n    .dataframe tbody tr th:only-of-type {\n        vertical-align: middle;\n    }\n\n    .dataframe tbody tr th {\n        vertical-align: top;\n    }\n\n    .dataframe thead th {\n        text-align: right;\n    }\n</style>\n<table border=\"1\" class=\"dataframe\">\n  <thead>\n    <tr style=\"text-align: right;\">\n      <th></th>\n      <th>Name</th>\n      <th>ERR209679_1_kneaddata_taxonomic_profile</th>\n      <th>ERR209680_1_kneaddata_taxonomic_profile</th>\n      <th>ERR209681_1_kneaddata_taxonomic_profile</th>\n      <th>ERR209684_1_kneaddata_taxonomic_profile</th>\n      <th>ERR209685_1_kneaddata_taxonomic_profile</th>\n      <th>ERR209690_1_kneaddata_taxonomic_profile</th>\n      <th>ERR209691_1_kneaddata_taxonomic_profile</th>\n      <th>ERR209692_1_kneaddata_taxonomic_profile</th>\n      <th>ERR209693_1_kneaddata_taxonomic_profile</th>\n      <th>...</th>\n      <th>ERR209729_1_kneaddata_taxonomic_profile</th>\n      <th>ERR209730_1_kneaddata_taxonomic_profile</th>\n      <th>ERR209731_1_kneaddata_taxonomic_profile</th>\n      <th>ERR209732_1_kneaddata_taxonomic_profile</th>\n      <th>ERR209739_1_kneaddata_taxonomic_profile</th>\n      <th>ERR209740_1_kneaddata_taxonomic_profile</th>\n      <th>ERR209743_1_kneaddata_taxonomic_profile</th>\n      <th>ERR209744_1_kneaddata_taxonomic_profile</th>\n      <th>ERR209745_1_kneaddata_taxonomic_profile</th>\n      <th>ERR209746_1_kneaddata_taxonomic_profile</th>\n    </tr>\n  </thead>\n  <tbody>\n    <tr>\n      <th>0</th>\n      <td>Methanobrevibacter_smithii</td>\n      <td>0.02968</td>\n      <td>0.0</td>\n      <td>0.0</td>\n      <td>0.0</td>\n      <td>0.0</td>\n      <td>0.0</td>\n      <td>0.0</td>\n      <td>0.0</td>\n      <td>0.00000</td>\n      <td>...</td>\n      <td>0.0</td>\n      <td>0.00000</td>\n      <td>0.0</td>\n      <td>0.0</td>\n      <td>0.0</td>\n      <td>0.0</td>\n      <td>0.0</td>\n      <td>0.0</td>\n      <td>0.0</td>\n      <td>0.0</td>\n    </tr>\n    <tr>\n      <th>1</th>\n      <td>Actinomyces_graevenitzii</td>\n      <td>0.26560</td>\n      <td>0.0</td>\n      <td>0.0</td>\n      <td>0.0</td>\n      <td>0.0</td>\n      <td>0.0</td>\n      <td>0.0</td>\n      <td>0.0</td>\n      <td>0.00023</td>\n      <td>...</td>\n      <td>0.0</td>\n      <td>0.00291</td>\n      <td>0.0</td>\n      <td>0.0</td>\n      <td>0.0</td>\n      <td>0.0</td>\n      <td>0.0</td>\n      <td>0.0</td>\n      <td>0.0</td>\n      <td>0.0</td>\n    </tr>\n    <tr>\n      <th>2</th>\n      <td>Rothia_dentocariosa</td>\n      <td>0.40963</td>\n      <td>0.0</td>\n      <td>0.0</td>\n      <td>0.0</td>\n      <td>0.0</td>\n      <td>0.0</td>\n      <td>0.0</td>\n      <td>0.0</td>\n      <td>0.00000</td>\n      <td>...</td>\n      <td>0.0</td>\n      <td>0.00000</td>\n      <td>0.0</td>\n      <td>0.0</td>\n      <td>0.0</td>\n      <td>0.0</td>\n      <td>0.0</td>\n      <td>0.0</td>\n      <td>0.0</td>\n      <td>0.0</td>\n    </tr>\n    <tr>\n      <th>3</th>\n      <td>Rothia_mucilaginosa</td>\n      <td>0.16636</td>\n      <td>0.0</td>\n      <td>0.0</td>\n      <td>0.0</td>\n      <td>0.0</td>\n      <td>0.0</td>\n      <td>0.0</td>\n      <td>0.0</td>\n      <td>0.00000</td>\n      <td>...</td>\n      <td>0.0</td>\n      <td>0.00000</td>\n      <td>0.0</td>\n      <td>0.0</td>\n      <td>0.0</td>\n      <td>0.0</td>\n      <td>0.0</td>\n      <td>0.0</td>\n      <td>0.0</td>\n      <td>0.0</td>\n    </tr>\n    <tr>\n      <th>4</th>\n      <td>Alloscardovia_omnicolens</td>\n      <td>0.28493</td>\n      <td>0.0</td>\n      <td>0.0</td>\n      <td>0.0</td>\n      <td>0.0</td>\n      <td>0.0</td>\n      <td>0.0</td>\n      <td>0.0</td>\n      <td>0.00000</td>\n      <td>...</td>\n      <td>0.0</td>\n      <td>0.00000</td>\n      <td>0.0</td>\n      <td>0.0</td>\n      <td>0.0</td>\n      <td>0.0</td>\n      <td>0.0</td>\n      <td>0.0</td>\n      <td>0.0</td>\n      <td>0.0</td>\n    </tr>\n  </tbody>\n</table>\n<p>5 rows × 36 columns</p>\n</div>",
      "text/plain": "                         Name  ERR209679_1_kneaddata_taxonomic_profile  \\\n0  Methanobrevibacter_smithii                                  0.02968   \n1    Actinomyces_graevenitzii                                  0.26560   \n2         Rothia_dentocariosa                                  0.40963   \n3         Rothia_mucilaginosa                                  0.16636   \n4    Alloscardovia_omnicolens                                  0.28493   \n\n   ERR209680_1_kneaddata_taxonomic_profile  \\\n0                                      0.0   \n1                                      0.0   \n2                                      0.0   \n3                                      0.0   \n4                                      0.0   \n\n   ERR209681_1_kneaddata_taxonomic_profile  \\\n0                                      0.0   \n1                                      0.0   \n2                                      0.0   \n3                                      0.0   \n4                                      0.0   \n\n   ERR209684_1_kneaddata_taxonomic_profile  \\\n0                                      0.0   \n1                                      0.0   \n2                                      0.0   \n3                                      0.0   \n4                                      0.0   \n\n   ERR209685_1_kneaddata_taxonomic_profile  \\\n0                                      0.0   \n1                                      0.0   \n2                                      0.0   \n3                                      0.0   \n4                                      0.0   \n\n   ERR209690_1_kneaddata_taxonomic_profile  \\\n0                                      0.0   \n1                                      0.0   \n2                                      0.0   \n3                                      0.0   \n4                                      0.0   \n\n   ERR209691_1_kneaddata_taxonomic_profile  \\\n0                                      0.0   \n1                                      0.0   \n2                                      0.0   \n3                                      0.0   \n4                                      0.0   \n\n   ERR209692_1_kneaddata_taxonomic_profile  \\\n0                                      0.0   \n1                                      0.0   \n2                                      0.0   \n3                                      0.0   \n4                                      0.0   \n\n   ERR209693_1_kneaddata_taxonomic_profile  ...  \\\n0                                  0.00000  ...   \n1                                  0.00023  ...   \n2                                  0.00000  ...   \n3                                  0.00000  ...   \n4                                  0.00000  ...   \n\n   ERR209729_1_kneaddata_taxonomic_profile  \\\n0                                      0.0   \n1                                      0.0   \n2                                      0.0   \n3                                      0.0   \n4                                      0.0   \n\n   ERR209730_1_kneaddata_taxonomic_profile  \\\n0                                  0.00000   \n1                                  0.00291   \n2                                  0.00000   \n3                                  0.00000   \n4                                  0.00000   \n\n   ERR209731_1_kneaddata_taxonomic_profile  \\\n0                                      0.0   \n1                                      0.0   \n2                                      0.0   \n3                                      0.0   \n4                                      0.0   \n\n   ERR209732_1_kneaddata_taxonomic_profile  \\\n0                                      0.0   \n1                                      0.0   \n2                                      0.0   \n3                                      0.0   \n4                                      0.0   \n\n   ERR209739_1_kneaddata_taxonomic_profile  \\\n0                                      0.0   \n1                                      0.0   \n2                                      0.0   \n3                                      0.0   \n4                                      0.0   \n\n   ERR209740_1_kneaddata_taxonomic_profile  \\\n0                                      0.0   \n1                                      0.0   \n2                                      0.0   \n3                                      0.0   \n4                                      0.0   \n\n   ERR209743_1_kneaddata_taxonomic_profile  \\\n0                                      0.0   \n1                                      0.0   \n2                                      0.0   \n3                                      0.0   \n4                                      0.0   \n\n   ERR209744_1_kneaddata_taxonomic_profile  \\\n0                                      0.0   \n1                                      0.0   \n2                                      0.0   \n3                                      0.0   \n4                                      0.0   \n\n   ERR209745_1_kneaddata_taxonomic_profile  \\\n0                                      0.0   \n1                                      0.0   \n2                                      0.0   \n3                                      0.0   \n4                                      0.0   \n\n   ERR209746_1_kneaddata_taxonomic_profile  \n0                                      0.0  \n1                                      0.0  \n2                                      0.0  \n3                                      0.0  \n4                                      0.0  \n\n[5 rows x 36 columns]"
     },
     "execution_count": 13,
     "metadata": {},
     "output_type": "execute_result"
    }
   ],
   "source": [
    "contains_t.head()"
   ]
  },
  {
   "cell_type": "markdown",
   "metadata": {},
   "source": [
    "> ## **Step_3-> Grouping and sum of the rows based on common name**"
   ]
  },
  {
   "cell_type": "code",
   "execution_count": 14,
   "metadata": {},
   "outputs": [],
   "source": [
    "t_sum = contains_t.groupby(['Name']).sum().reset_index()"
   ]
  },
  {
   "cell_type": "code",
   "execution_count": 15,
   "metadata": {},
   "outputs": [
    {
     "data": {
      "text/html": "<div>\n<style scoped>\n    .dataframe tbody tr th:only-of-type {\n        vertical-align: middle;\n    }\n\n    .dataframe tbody tr th {\n        vertical-align: top;\n    }\n\n    .dataframe thead th {\n        text-align: right;\n    }\n</style>\n<table border=\"1\" class=\"dataframe\">\n  <thead>\n    <tr style=\"text-align: right;\">\n      <th></th>\n      <th>Name</th>\n      <th>ERR209679_1_kneaddata_taxonomic_profile</th>\n      <th>ERR209680_1_kneaddata_taxonomic_profile</th>\n      <th>ERR209681_1_kneaddata_taxonomic_profile</th>\n      <th>ERR209684_1_kneaddata_taxonomic_profile</th>\n      <th>ERR209685_1_kneaddata_taxonomic_profile</th>\n      <th>ERR209690_1_kneaddata_taxonomic_profile</th>\n      <th>ERR209691_1_kneaddata_taxonomic_profile</th>\n      <th>ERR209692_1_kneaddata_taxonomic_profile</th>\n      <th>ERR209693_1_kneaddata_taxonomic_profile</th>\n      <th>...</th>\n      <th>ERR209729_1_kneaddata_taxonomic_profile</th>\n      <th>ERR209730_1_kneaddata_taxonomic_profile</th>\n      <th>ERR209731_1_kneaddata_taxonomic_profile</th>\n      <th>ERR209732_1_kneaddata_taxonomic_profile</th>\n      <th>ERR209739_1_kneaddata_taxonomic_profile</th>\n      <th>ERR209740_1_kneaddata_taxonomic_profile</th>\n      <th>ERR209743_1_kneaddata_taxonomic_profile</th>\n      <th>ERR209744_1_kneaddata_taxonomic_profile</th>\n      <th>ERR209745_1_kneaddata_taxonomic_profile</th>\n      <th>ERR209746_1_kneaddata_taxonomic_profile</th>\n    </tr>\n  </thead>\n  <tbody>\n    <tr>\n      <th>0</th>\n      <td>Actinomyces_graevenitzii</td>\n      <td>0.2656</td>\n      <td>0.0</td>\n      <td>0.0</td>\n      <td>0.0</td>\n      <td>0.00000</td>\n      <td>0.0</td>\n      <td>0.0</td>\n      <td>0.00000</td>\n      <td>0.00023</td>\n      <td>...</td>\n      <td>0.0</td>\n      <td>0.00291</td>\n      <td>0.00000</td>\n      <td>0.00000</td>\n      <td>0.00000</td>\n      <td>0.00000</td>\n      <td>0.0</td>\n      <td>0.0</td>\n      <td>0.00000</td>\n      <td>0.00000</td>\n    </tr>\n    <tr>\n      <th>1</th>\n      <td>Adlercreutzia_equolifaciens</td>\n      <td>0.0000</td>\n      <td>0.0</td>\n      <td>0.0</td>\n      <td>0.0</td>\n      <td>0.00000</td>\n      <td>0.0</td>\n      <td>0.0</td>\n      <td>0.00000</td>\n      <td>0.00000</td>\n      <td>...</td>\n      <td>0.0</td>\n      <td>0.00000</td>\n      <td>0.00000</td>\n      <td>0.00000</td>\n      <td>0.21519</td>\n      <td>0.18144</td>\n      <td>0.0</td>\n      <td>0.0</td>\n      <td>0.08186</td>\n      <td>0.06435</td>\n    </tr>\n    <tr>\n      <th>2</th>\n      <td>Alistipes_finegoldii</td>\n      <td>0.0000</td>\n      <td>0.0</td>\n      <td>0.0</td>\n      <td>0.0</td>\n      <td>0.00000</td>\n      <td>0.0</td>\n      <td>0.0</td>\n      <td>0.01919</td>\n      <td>0.02454</td>\n      <td>...</td>\n      <td>0.0</td>\n      <td>0.00000</td>\n      <td>0.00000</td>\n      <td>0.00000</td>\n      <td>0.00000</td>\n      <td>0.00000</td>\n      <td>0.0</td>\n      <td>0.0</td>\n      <td>0.02701</td>\n      <td>0.02601</td>\n    </tr>\n    <tr>\n      <th>3</th>\n      <td>Alistipes_indistinctus</td>\n      <td>0.0000</td>\n      <td>0.0</td>\n      <td>0.0</td>\n      <td>0.0</td>\n      <td>0.00000</td>\n      <td>0.0</td>\n      <td>0.0</td>\n      <td>0.00000</td>\n      <td>0.00000</td>\n      <td>...</td>\n      <td>0.0</td>\n      <td>0.00000</td>\n      <td>0.00000</td>\n      <td>0.00000</td>\n      <td>0.00000</td>\n      <td>0.00000</td>\n      <td>0.0</td>\n      <td>0.0</td>\n      <td>0.00000</td>\n      <td>0.00000</td>\n    </tr>\n    <tr>\n      <th>4</th>\n      <td>Alistipes_onderdonkii</td>\n      <td>0.0000</td>\n      <td>0.0</td>\n      <td>0.0</td>\n      <td>0.0</td>\n      <td>0.18234</td>\n      <td>0.0</td>\n      <td>0.0</td>\n      <td>1.68969</td>\n      <td>1.92601</td>\n      <td>...</td>\n      <td>0.0</td>\n      <td>0.00000</td>\n      <td>1.49549</td>\n      <td>1.27704</td>\n      <td>0.00172</td>\n      <td>0.00000</td>\n      <td>0.0</td>\n      <td>0.0</td>\n      <td>2.11171</td>\n      <td>1.70205</td>\n    </tr>\n  </tbody>\n</table>\n<p>5 rows × 36 columns</p>\n</div>",
      "text/plain": "                          Name  ERR209679_1_kneaddata_taxonomic_profile  \\\n0     Actinomyces_graevenitzii                                   0.2656   \n1  Adlercreutzia_equolifaciens                                   0.0000   \n2         Alistipes_finegoldii                                   0.0000   \n3       Alistipes_indistinctus                                   0.0000   \n4        Alistipes_onderdonkii                                   0.0000   \n\n   ERR209680_1_kneaddata_taxonomic_profile  \\\n0                                      0.0   \n1                                      0.0   \n2                                      0.0   \n3                                      0.0   \n4                                      0.0   \n\n   ERR209681_1_kneaddata_taxonomic_profile  \\\n0                                      0.0   \n1                                      0.0   \n2                                      0.0   \n3                                      0.0   \n4                                      0.0   \n\n   ERR209684_1_kneaddata_taxonomic_profile  \\\n0                                      0.0   \n1                                      0.0   \n2                                      0.0   \n3                                      0.0   \n4                                      0.0   \n\n   ERR209685_1_kneaddata_taxonomic_profile  \\\n0                                  0.00000   \n1                                  0.00000   \n2                                  0.00000   \n3                                  0.00000   \n4                                  0.18234   \n\n   ERR209690_1_kneaddata_taxonomic_profile  \\\n0                                      0.0   \n1                                      0.0   \n2                                      0.0   \n3                                      0.0   \n4                                      0.0   \n\n   ERR209691_1_kneaddata_taxonomic_profile  \\\n0                                      0.0   \n1                                      0.0   \n2                                      0.0   \n3                                      0.0   \n4                                      0.0   \n\n   ERR209692_1_kneaddata_taxonomic_profile  \\\n0                                  0.00000   \n1                                  0.00000   \n2                                  0.01919   \n3                                  0.00000   \n4                                  1.68969   \n\n   ERR209693_1_kneaddata_taxonomic_profile  ...  \\\n0                                  0.00023  ...   \n1                                  0.00000  ...   \n2                                  0.02454  ...   \n3                                  0.00000  ...   \n4                                  1.92601  ...   \n\n   ERR209729_1_kneaddata_taxonomic_profile  \\\n0                                      0.0   \n1                                      0.0   \n2                                      0.0   \n3                                      0.0   \n4                                      0.0   \n\n   ERR209730_1_kneaddata_taxonomic_profile  \\\n0                                  0.00291   \n1                                  0.00000   \n2                                  0.00000   \n3                                  0.00000   \n4                                  0.00000   \n\n   ERR209731_1_kneaddata_taxonomic_profile  \\\n0                                  0.00000   \n1                                  0.00000   \n2                                  0.00000   \n3                                  0.00000   \n4                                  1.49549   \n\n   ERR209732_1_kneaddata_taxonomic_profile  \\\n0                                  0.00000   \n1                                  0.00000   \n2                                  0.00000   \n3                                  0.00000   \n4                                  1.27704   \n\n   ERR209739_1_kneaddata_taxonomic_profile  \\\n0                                  0.00000   \n1                                  0.21519   \n2                                  0.00000   \n3                                  0.00000   \n4                                  0.00172   \n\n   ERR209740_1_kneaddata_taxonomic_profile  \\\n0                                  0.00000   \n1                                  0.18144   \n2                                  0.00000   \n3                                  0.00000   \n4                                  0.00000   \n\n   ERR209743_1_kneaddata_taxonomic_profile  \\\n0                                      0.0   \n1                                      0.0   \n2                                      0.0   \n3                                      0.0   \n4                                      0.0   \n\n   ERR209744_1_kneaddata_taxonomic_profile  \\\n0                                      0.0   \n1                                      0.0   \n2                                      0.0   \n3                                      0.0   \n4                                      0.0   \n\n   ERR209745_1_kneaddata_taxonomic_profile  \\\n0                                  0.00000   \n1                                  0.08186   \n2                                  0.02701   \n3                                  0.00000   \n4                                  2.11171   \n\n   ERR209746_1_kneaddata_taxonomic_profile  \n0                                  0.00000  \n1                                  0.06435  \n2                                  0.02601  \n3                                  0.00000  \n4                                  1.70205  \n\n[5 rows x 36 columns]"
     },
     "execution_count": 15,
     "metadata": {},
     "output_type": "execute_result"
    }
   ],
   "source": [
    "t_sum.head()"
   ]
  },
  {
   "cell_type": "markdown",
   "metadata": {},
   "source": [
    "> ## **Step_4-> Saving to csv file**\r\n"
   ]
  },
  {
   "cell_type": "code",
   "execution_count": 16,
   "metadata": {},
   "outputs": [],
   "source": [
    "# t_sum.to_csv('C:/Users/Sagar Singh/Desktop/Final_Table.csv')"
   ]
  }
 ],
 "metadata": {
  "interpreter": {
   "hash": "60d6ae3535a4e6195853906f058dd7e5d5c126e71d6f2bb78fc611ab47063def"
  },
  "kernelspec": {
   "display_name": "Python 3.8.5 64-bit ('base': conda)",
   "name": "python3"
  },
  "language_info": {
   "codemirror_mode": {
    "name": "ipython",
    "version": 3
   },
   "file_extension": ".py",
   "mimetype": "text/x-python",
   "name": "python",
   "nbconvert_exporter": "python",
   "pygments_lexer": "ipython3",
   "version": "3.8.5"
  },
  "orig_nbformat": 2
 },
 "nbformat": 4,
 "nbformat_minor": 2
}